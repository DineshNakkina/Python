{
 "cells": [
  {
   "cell_type": "markdown",
   "id": "cbed4525",
   "metadata": {},
   "source": [
    "# Pascal's Triangle"
   ]
  },
  {
   "cell_type": "code",
   "execution_count": 2,
   "id": "392d8b2f",
   "metadata": {},
   "outputs": [
    {
     "name": "stdout",
     "output_type": "stream",
     "text": [
      "enter a number: 10\n",
      "          1 \n",
      "         1 1 \n",
      "        1 2 1 \n",
      "       1 3 3 1 \n",
      "      1 4 6 4 1 \n",
      "     1 5 10 10 5 1 \n",
      "    1 6 15 20 15 6 1 \n",
      "   1 7 21 35 35 21 7 1 \n",
      "  1 8 28 56 70 56 28 8 1 \n",
      " 1 9 36 84 126 126 84 36 9 1 \n"
     ]
    }
   ],
   "source": [
    "n=int(input(\"enter a number: \"))\n",
    "l=[]\n",
    "for i in range(n):\n",
    "    temp=[]\n",
    "    for j in range(i+1):\n",
    "        if j==0 or j==i:\n",
    "            temp.append(1)\n",
    "        else:\n",
    "            temp.append(l[i-1][j-1]+l[i-1][j])\n",
    "    l.append(temp)\n",
    "for i in range(n):\n",
    "    for j in range(n-i,0,-1):\n",
    "        print(\" \",end=\"\")\n",
    "    for j in range(i+1):\n",
    "        print(l[i][j],end=\" \")\n",
    "    print()"
   ]
  },
  {
   "cell_type": "code",
   "execution_count": null,
   "id": "4f0d893b",
   "metadata": {},
   "outputs": [],
   "source": []
  }
 ],
 "metadata": {
  "kernelspec": {
   "display_name": "Python 3 (ipykernel)",
   "language": "python",
   "name": "python3"
  },
  "language_info": {
   "codemirror_mode": {
    "name": "ipython",
    "version": 3
   },
   "file_extension": ".py",
   "mimetype": "text/x-python",
   "name": "python",
   "nbconvert_exporter": "python",
   "pygments_lexer": "ipython3",
   "version": "3.11.3"
  }
 },
 "nbformat": 4,
 "nbformat_minor": 5
}
